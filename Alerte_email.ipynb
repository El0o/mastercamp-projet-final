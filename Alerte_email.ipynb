{
 "cells": [
  {
   "cell_type": "markdown",
   "id": "4aaacafd",
   "metadata": {},
   "source": [
    "Etape 6 - Génération d'Alertes et de Notifications Email"
   ]
  },
  {
   "cell_type": "code",
   "execution_count": 31,
   "id": "aa36f975",
   "metadata": {},
   "outputs": [],
   "source": [
    "#Import Libraries\n",
    "import smtplib\n",
    "from email.mime.text import MIMEText\n",
    "import pandas as pd\n",
    "import webbrowser"
   ]
  },
  {
   "cell_type": "code",
   "execution_count": 32,
   "id": "d922f45c",
   "metadata": {},
   "outputs": [],
   "source": [
    "# Function to send an email\n",
    "def send_email(subject, body, to_email):\n",
    "    msg = MIMEText(body)\n",
    "    msg['Subject'] = subject\n",
    "    msg['From'] = 'riley.cormier37@ethereal.email'\n",
    "    msg['To'] = to_email\n",
    "    try:\n",
    "        with smtplib.SMTP('smtp.ethereal.email', 587) as server:\n",
    "            server.starttls()\n",
    "            server.login('riley.cormier37@ethereal.email', 'APvJGZdFEKnu22MSuQ')\n",
    "            server.sendmail('riley.cormier37@ethereal.email', to_email, msg.as_string())\n",
    "        print(\"Email sent successfully!\")\n",
    "    except Exception as e:\n",
    "        print(f\"Failed to send email: {e}\")"
   ]
  },
  {
   "cell_type": "code",
   "execution_count": 33,
   "id": "1ffe3e7c",
   "metadata": {},
   "outputs": [],
   "source": [
    "def check_critical_vulnerability(version, product):\n",
    "    # Load the DataFrame from the CSV file\n",
    "    df = pd.read_csv('DataFrame_Complet.csv')\n",
    "    print(f\"Checking for critical vulnerabilities in {product} version {version}...\")\n",
    "    filtre = (df['product'] == product) & (df['version'] == version) & (df[\"Base_severity\"] == \"CRITICAL\")\n",
    "    liste_dicts = df[filtre].to_dict(orient=\"records\")\n",
    "    if liste_dicts:\n",
    "        return True, liste_dicts[0]  # Return the first critical vulnerability found\n",
    "    else:\n",
    "        return False, None\n",
    "    \n",
    "\n",
    "def notify_clients():\n",
    "    # sample possible dictionnaire de clients avec leur abonnement associé\n",
    "    sample_clients = {\n",
    "    'ADOdb/< 5.22.9': [{'nom': 'Ken', 'prenom': 'Clark', 'email': 'clark.ken@email.net'}],\n",
    "    'Backup and Recovery/12.3.1': [{'nom': 'Dupont', 'prenom': 'Marie', 'email': 'marie.dupont@email.com'}],\n",
    "    'Excel/2019': [{'nom': 'Lemoine', 'prenom': 'Jean', 'email': 'jean.lemoine@email.com'}],\n",
    "    'AutoCAD/2022': [{'nom': 'Durand', 'prenom': 'Claire', 'email': 'claire.durand@email.com'}],\n",
    "    'Photoshop/2023.2': [{'nom': 'Durand', 'prenom': 'Claire', 'email': 'claire.durand@email.com'}],\n",
    "    'Apache Parquet Java/0': [{'nom': 'Martin', 'prenom': 'Louis', 'email': 'louis.martin@email.com'}],\n",
    "    'Git/2.44.0': [{'nom': 'Martin', 'prenom': 'Louis', 'email': 'louis.martin@email.com'}],\n",
    "    'Word/2021': [{'nom': 'Bernard', 'prenom': 'Emma', 'email': 'emma.bernard@email.com'}],\n",
    "    'Excel/2021': [{'nom': 'Bernard', 'prenom': 'Emma', 'email': 'emma.bernard@email.com'}],\n",
    "    'PowerPoint/2021': [{'nom': 'Bernard', 'prenom': 'Emma', 'email': 'emma.bernard@email.com'}]\n",
    "    }\n",
    "\n",
    "    # Iterate through each software and version in the sample clients\n",
    "    for software_version, clients in sample_clients.items():\n",
    "        software, version = software_version.split('/')\n",
    "        critical, vulnerability_info = check_critical_vulnerability(version, software)\n",
    "        \n",
    "        if critical:\n",
    "            for client in clients:\n",
    "                name = client['nom']\n",
    "                firstname = client['prenom']\n",
    "                to_email = client['email']\n",
    "                subject = f\"{vulnerability_info['Title']} - Critical Vulnerability Alert\"\n",
    "                body = f\"Dear {firstname} {name},\\n\\nA critical vulnerability has been detected in {software} version {version}.\\nCERTFR id : {vulnerability_info['Id']}\\nSummary : {vulnerability_info['Summary']}\\n  CVE : {vulnerability_info['CVE_id']}\\n  Description : {vulnerability_info['Description']}\\n  Vendor : {vulnerability_info['vendor']}\\n\t Product : {vulnerability_info['product']}\\n  Version : {vulnerability_info['version']}\\nPlease take immediate action to secure your system.\"\n",
    "                print(f\"Sending email to {firstname} {name} at {to_email}\")\n",
    "                send_email(subject, body, to_email)\n",
    "                "
   ]
  },
  {
   "cell_type": "code",
   "execution_count": 34,
   "id": "7b3a6a67",
   "metadata": {},
   "outputs": [
    {
     "name": "stdout",
     "output_type": "stream",
     "text": [
      "Checking for critical vulnerabilities in ADOdb version < 5.22.9...\n",
      "Sending email to Clark Ken at clark.ken@email.net\n",
      "Email sent successfully!\n",
      "Checking for critical vulnerabilities in Backup and Recovery version 12.3.1...\n",
      "Sending email to Marie Dupont at marie.dupont@email.com\n",
      "Email sent successfully!\n",
      "Checking for critical vulnerabilities in Excel version 2019...\n",
      "Checking for critical vulnerabilities in AutoCAD version 2022...\n",
      "Checking for critical vulnerabilities in Photoshop version 2023.2...\n",
      "Checking for critical vulnerabilities in Apache Parquet Java version 0...\n",
      "Sending email to Louis Martin at louis.martin@email.com\n",
      "Email sent successfully!\n",
      "Checking for critical vulnerabilities in Git version 2.44.0...\n",
      "Checking for critical vulnerabilities in Word version 2021...\n",
      "Checking for critical vulnerabilities in Excel version 2021...\n",
      "Checking for critical vulnerabilities in PowerPoint version 2021...\n"
     ]
    },
    {
     "data": {
      "text/plain": [
       "True"
      ]
     },
     "execution_count": 34,
     "metadata": {},
     "output_type": "execute_result"
    }
   ],
   "source": [
    "notify_clients()\n",
    "#redirect to ethereal.email to check the mail send \n",
    "url = \"https://ethereal.email\"\n",
    "webbrowser.open(url)"
   ]
  },
  {
   "cell_type": "markdown",
   "id": "06035401",
   "metadata": {},
   "source": []
  }
 ],
 "metadata": {
  "kernelspec": {
   "display_name": "Python 3",
   "language": "python",
   "name": "python3"
  },
  "language_info": {
   "codemirror_mode": {
    "name": "ipython",
    "version": 3
   },
   "file_extension": ".py",
   "mimetype": "text/x-python",
   "name": "python",
   "nbconvert_exporter": "python",
   "pygments_lexer": "ipython3",
   "version": "3.12.0"
  }
 },
 "nbformat": 4,
 "nbformat_minor": 5
}
