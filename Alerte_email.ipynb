{
 "cells": [
  {
   "cell_type": "markdown",
   "id": "4aaacafd",
   "metadata": {},
   "source": [
    "Etape 6 - Génération d'Alertes et de Notifications Email"
   ]
  },
  {
   "cell_type": "code",
   "execution_count": null,
   "id": "aa36f975",
   "metadata": {},
   "outputs": [],
   "source": [
    "#Import Libraries\n",
    "import smtplib\n",
    "from email.mime.text import MIMEText"
   ]
  },
  {
   "cell_type": "code",
   "execution_count": null,
   "id": "d922f45c",
   "metadata": {},
   "outputs": [],
   "source": [
    "# Function to send an email\n",
    "def send_email(from_email,subject, body, to_email):\n",
    "    password = \"mot de passe\"\n",
    "    msg = MIMEText(body)\n",
    "    msg['Subject'] = subject\n",
    "    msg['From'] = from_email\n",
    "    msg['To'] = to_email\n",
    "    try:\n",
    "        with smtplib.SMTP('smtp.gmail.com', 587) as server:\n",
    "            server.starttls()\n",
    "            server.login(from_email, password)\n",
    "            server.sendmail(from_email, to_email, msg.as_string())\n",
    "        print(\"Email sent successfully!\")\n",
    "    except Exception as e:\n",
    "        print(f\"Failed to send email: {e}\")"
   ]
  },
  {
   "cell_type": "code",
   "execution_count": null,
   "id": "e2920f2d",
   "metadata": {},
   "outputs": [],
   "source": [
    "# Use the function to send an email if critical vulnerability is found for a specific software\n",
    "def check_vulnerability_and_notify(name,firstname,to_email,software_name, version):\n",
    "    #We fetch the vulnerability data from our csv file\n",
    "    with open('DataFrame_Complet.csv', 'r') as file:\n",
    "        for line in file:\n",
    "            data = line.strip().split(',')\n",
    "            if data[14] == software_name and data[15] == version and data[9] == \"Critical\":\n",
    "                # If a critical vulnerability is found, send an email\n",
    "                from_email = \"camille.dommergue@gmail.com\"\n",
    "                subject = f\"{data[2]}\"\n",
    "                body = f\"Dear {firstname} {name},\\n\\n{data[5]}.\\n More information on : {data[1]}\\n Date of publication : {data[4]}\\n CVE : {data[6]}\"\n",
    "                send_email(from_email, subject, body, to_email)"
   ]
  },
  {
   "cell_type": "code",
   "execution_count": null,
   "id": "31ff58bd",
   "metadata": {},
   "outputs": [],
   "source": [
    "# usage example\n",
    "if __name__ == \"__main__\":\n",
    "    #open csv file and check for critical vulnerabilities\n",
    "    with open('utlisateurs_logiciels.csv', 'r') as file:\n",
    "        for line in file:\n",
    "            data = line.strip().split(',')\n",
    "            software_name = data[3]\n",
    "            version = data[4]\n",
    "            to_email = data[2]\n",
    "            name = data[0]\n",
    "            firstname = data[1]\n",
    "            # Check for vulnerabilities and notify\n",
    "            check_vulnerability_and_notify(name,firstname,to_email, software_name, version)"
   ]
  }
 ],
 "metadata": {
  "kernelspec": {
   "display_name": "Python 3",
   "language": "python",
   "name": "python3"
  },
  "language_info": {
   "name": "python",
   "version": "3.12.0"
  }
 },
 "nbformat": 4,
 "nbformat_minor": 5
}
