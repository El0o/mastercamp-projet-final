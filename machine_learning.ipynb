{
 "cells": [
  {
   "cell_type": "markdown",
   "id": "6754431bf906ab5b",
   "metadata": {},
   "source": [
    "# Etape 7 — Machine Learning"
   ]
  },
  {
   "cell_type": "code",
   "execution_count": 49,
   "id": "5e99320859354b06",
   "metadata": {
    "ExecuteTime": {
     "end_time": "2025-06-19T11:43:45.547873Z",
     "start_time": "2025-06-19T11:43:44.888053Z"
    }
   },
   "outputs": [],
   "source": [
    "import pandas as pd\n",
    "from sklearn.model_selection import train_test_split\n",
    "from sklearn.ensemble import RandomForestClassifier\n",
    "from sklearn.metrics import classification_report, confusion_matrix\n",
    "from sklearn.preprocessing import LabelEncoder, StandardScaler\n",
    "from sklearn.cluster import KMeans\n",
    "import matplotlib.pyplot as plt\n",
    "import seaborn as sns\n",
    "import numpy as np"
   ]
  },
  {
   "cell_type": "markdown",
   "id": "8fd678cd51876cf9",
   "metadata": {},
   "source": [
    "## Préparation initiale"
   ]
  },
  {
   "cell_type": "code",
   "execution_count": 51,
   "id": "11c91eac9662bdc1",
   "metadata": {
    "ExecuteTime": {
     "end_time": "2025-06-19T12:36:14.218403Z",
     "start_time": "2025-06-19T12:36:14.008833Z"
    }
   },
   "outputs": [],
   "source": [
    "df = pd.read_csv('DataFrame_Complet.csv')"
   ]
  },
  {
   "cell_type": "code",
   "execution_count": 52,
   "id": "7fc1266568faa519",
   "metadata": {
    "ExecuteTime": {
     "end_time": "2025-06-19T12:36:16.063633Z",
     "start_time": "2025-06-19T12:36:16.056287Z"
    }
   },
   "outputs": [],
   "source": [
    "ml_df = df.dropna(subset=['CVSS_score', 'Base_severity']).copy()"
   ]
  },
  {
   "cell_type": "code",
   "execution_count": 53,
   "id": "b01f5e9dcb6116e9",
   "metadata": {
    "ExecuteTime": {
     "end_time": "2025-06-19T12:36:16.524667Z",
     "start_time": "2025-06-19T12:36:16.520316Z"
    }
   },
   "outputs": [],
   "source": [
    "for col in ['EPSS_score', 'EPSS_percentile']:\n",
    "    ml_df[col] = ml_df[col].fillna(0)"
   ]
  },
  {
   "cell_type": "markdown",
   "id": "e6e255a414553c54",
   "metadata": {},
   "source": [
    "#### Correction ValueError: The least populated class in y has only 1 member, which is too few"
   ]
  },
  {
   "cell_type": "code",
   "execution_count": 55,
   "id": "6f29ee1eeaa61e46",
   "metadata": {
    "ExecuteTime": {
     "end_time": "2025-06-19T12:36:17.375015Z",
     "start_time": "2025-06-19T12:36:17.368251Z"
    }
   },
   "outputs": [],
   "source": [
    "ml_df = ml_df[ml_df['Base_severity'] != 'NONE'].copy()"
   ]
  },
  {
   "cell_type": "markdown",
   "id": "26d6b7ec1953e9a4",
   "metadata": {},
   "source": [
    "## Apprentissage supervisé"
   ]
  },
  {
   "cell_type": "code",
   "execution_count": 57,
   "id": "28c5a9349020df16",
   "metadata": {
    "ExecuteTime": {
     "end_time": "2025-06-19T12:36:17.894104Z",
     "start_time": "2025-06-19T12:36:17.888496Z"
    }
   },
   "outputs": [
    {
     "name": "stdout",
     "output_type": "stream",
     "text": [
      "\n",
      "--- Début de l'apprentissage supervisé ---\n"
     ]
    }
   ],
   "source": [
    "print(\"\\n--- Début de l'apprentissage supervisé ---\")\n",
    "\n",
    "le = LabelEncoder()\n",
    "ml_df['Base_severity_encoded'] = le.fit_transform(ml_df['Base_severity'])"
   ]
  },
  {
   "cell_type": "code",
   "execution_count": 58,
   "id": "20555e574112c994",
   "metadata": {
    "ExecuteTime": {
     "end_time": "2025-06-19T12:36:18.090348Z",
     "start_time": "2025-06-19T12:36:18.085276Z"
    }
   },
   "outputs": [],
   "source": [
    "X = ml_df[['CVSS_score', 'EPSS_score', 'EPSS_percentile']]\n",
    "y = ml_df['Base_severity_encoded']"
   ]
  },
  {
   "cell_type": "code",
   "execution_count": 59,
   "id": "128b2994c0358b0f",
   "metadata": {
    "ExecuteTime": {
     "end_time": "2025-06-19T12:36:18.254878Z",
     "start_time": "2025-06-19T12:36:18.245452Z"
    }
   },
   "outputs": [
    {
     "name": "stdout",
     "output_type": "stream",
     "text": [
      "Taille de l'ensemble d'entraînement : 4419\n",
      "Taille de l'ensemble de test : 1895\n"
     ]
    }
   ],
   "source": [
    "X_train, X_test, y_train, y_test = train_test_split(X, y, test_size=0.3, random_state=42, stratify=y)\n",
    "print(f\"Taille de l'ensemble d'entraînement : {len(X_train)}\")\n",
    "print(f\"Taille de l'ensemble de test : {len(X_test)}\")"
   ]
  },
  {
   "cell_type": "code",
   "execution_count": 60,
   "id": "319a1500b2bed5a9",
   "metadata": {
    "ExecuteTime": {
     "end_time": "2025-06-19T12:36:18.576914Z",
     "start_time": "2025-06-19T12:36:18.365951Z"
    }
   },
   "outputs": [
    {
     "data": {
      "text/html": [
       "<style>#sk-container-id-2 {\n",
       "  /* Definition of color scheme common for light and dark mode */\n",
       "  --sklearn-color-text: black;\n",
       "  --sklearn-color-line: gray;\n",
       "  /* Definition of color scheme for unfitted estimators */\n",
       "  --sklearn-color-unfitted-level-0: #fff5e6;\n",
       "  --sklearn-color-unfitted-level-1: #f6e4d2;\n",
       "  --sklearn-color-unfitted-level-2: #ffe0b3;\n",
       "  --sklearn-color-unfitted-level-3: chocolate;\n",
       "  /* Definition of color scheme for fitted estimators */\n",
       "  --sklearn-color-fitted-level-0: #f0f8ff;\n",
       "  --sklearn-color-fitted-level-1: #d4ebff;\n",
       "  --sklearn-color-fitted-level-2: #b3dbfd;\n",
       "  --sklearn-color-fitted-level-3: cornflowerblue;\n",
       "\n",
       "  /* Specific color for light theme */\n",
       "  --sklearn-color-text-on-default-background: var(--sg-text-color, var(--theme-code-foreground, var(--jp-content-font-color1, black)));\n",
       "  --sklearn-color-background: var(--sg-background-color, var(--theme-background, var(--jp-layout-color0, white)));\n",
       "  --sklearn-color-border-box: var(--sg-text-color, var(--theme-code-foreground, var(--jp-content-font-color1, black)));\n",
       "  --sklearn-color-icon: #696969;\n",
       "\n",
       "  @media (prefers-color-scheme: dark) {\n",
       "    /* Redefinition of color scheme for dark theme */\n",
       "    --sklearn-color-text-on-default-background: var(--sg-text-color, var(--theme-code-foreground, var(--jp-content-font-color1, white)));\n",
       "    --sklearn-color-background: var(--sg-background-color, var(--theme-background, var(--jp-layout-color0, #111)));\n",
       "    --sklearn-color-border-box: var(--sg-text-color, var(--theme-code-foreground, var(--jp-content-font-color1, white)));\n",
       "    --sklearn-color-icon: #878787;\n",
       "  }\n",
       "}\n",
       "\n",
       "#sk-container-id-2 {\n",
       "  color: var(--sklearn-color-text);\n",
       "}\n",
       "\n",
       "#sk-container-id-2 pre {\n",
       "  padding: 0;\n",
       "}\n",
       "\n",
       "#sk-container-id-2 input.sk-hidden--visually {\n",
       "  border: 0;\n",
       "  clip: rect(1px 1px 1px 1px);\n",
       "  clip: rect(1px, 1px, 1px, 1px);\n",
       "  height: 1px;\n",
       "  margin: -1px;\n",
       "  overflow: hidden;\n",
       "  padding: 0;\n",
       "  position: absolute;\n",
       "  width: 1px;\n",
       "}\n",
       "\n",
       "#sk-container-id-2 div.sk-dashed-wrapped {\n",
       "  border: 1px dashed var(--sklearn-color-line);\n",
       "  margin: 0 0.4em 0.5em 0.4em;\n",
       "  box-sizing: border-box;\n",
       "  padding-bottom: 0.4em;\n",
       "  background-color: var(--sklearn-color-background);\n",
       "}\n",
       "\n",
       "#sk-container-id-2 div.sk-container {\n",
       "  /* jupyter's `normalize.less` sets `[hidden] { display: none; }`\n",
       "     but bootstrap.min.css set `[hidden] { display: none !important; }`\n",
       "     so we also need the `!important` here to be able to override the\n",
       "     default hidden behavior on the sphinx rendered scikit-learn.org.\n",
       "     See: https://github.com/scikit-learn/scikit-learn/issues/21755 */\n",
       "  display: inline-block !important;\n",
       "  position: relative;\n",
       "}\n",
       "\n",
       "#sk-container-id-2 div.sk-text-repr-fallback {\n",
       "  display: none;\n",
       "}\n",
       "\n",
       "div.sk-parallel-item,\n",
       "div.sk-serial,\n",
       "div.sk-item {\n",
       "  /* draw centered vertical line to link estimators */\n",
       "  background-image: linear-gradient(var(--sklearn-color-text-on-default-background), var(--sklearn-color-text-on-default-background));\n",
       "  background-size: 2px 100%;\n",
       "  background-repeat: no-repeat;\n",
       "  background-position: center center;\n",
       "}\n",
       "\n",
       "/* Parallel-specific style estimator block */\n",
       "\n",
       "#sk-container-id-2 div.sk-parallel-item::after {\n",
       "  content: \"\";\n",
       "  width: 100%;\n",
       "  border-bottom: 2px solid var(--sklearn-color-text-on-default-background);\n",
       "  flex-grow: 1;\n",
       "}\n",
       "\n",
       "#sk-container-id-2 div.sk-parallel {\n",
       "  display: flex;\n",
       "  align-items: stretch;\n",
       "  justify-content: center;\n",
       "  background-color: var(--sklearn-color-background);\n",
       "  position: relative;\n",
       "}\n",
       "\n",
       "#sk-container-id-2 div.sk-parallel-item {\n",
       "  display: flex;\n",
       "  flex-direction: column;\n",
       "}\n",
       "\n",
       "#sk-container-id-2 div.sk-parallel-item:first-child::after {\n",
       "  align-self: flex-end;\n",
       "  width: 50%;\n",
       "}\n",
       "\n",
       "#sk-container-id-2 div.sk-parallel-item:last-child::after {\n",
       "  align-self: flex-start;\n",
       "  width: 50%;\n",
       "}\n",
       "\n",
       "#sk-container-id-2 div.sk-parallel-item:only-child::after {\n",
       "  width: 0;\n",
       "}\n",
       "\n",
       "/* Serial-specific style estimator block */\n",
       "\n",
       "#sk-container-id-2 div.sk-serial {\n",
       "  display: flex;\n",
       "  flex-direction: column;\n",
       "  align-items: center;\n",
       "  background-color: var(--sklearn-color-background);\n",
       "  padding-right: 1em;\n",
       "  padding-left: 1em;\n",
       "}\n",
       "\n",
       "\n",
       "/* Toggleable style: style used for estimator/Pipeline/ColumnTransformer box that is\n",
       "clickable and can be expanded/collapsed.\n",
       "- Pipeline and ColumnTransformer use this feature and define the default style\n",
       "- Estimators will overwrite some part of the style using the `sk-estimator` class\n",
       "*/\n",
       "\n",
       "/* Pipeline and ColumnTransformer style (default) */\n",
       "\n",
       "#sk-container-id-2 div.sk-toggleable {\n",
       "  /* Default theme specific background. It is overwritten whether we have a\n",
       "  specific estimator or a Pipeline/ColumnTransformer */\n",
       "  background-color: var(--sklearn-color-background);\n",
       "}\n",
       "\n",
       "/* Toggleable label */\n",
       "#sk-container-id-2 label.sk-toggleable__label {\n",
       "  cursor: pointer;\n",
       "  display: block;\n",
       "  width: 100%;\n",
       "  margin-bottom: 0;\n",
       "  padding: 0.5em;\n",
       "  box-sizing: border-box;\n",
       "  text-align: center;\n",
       "}\n",
       "\n",
       "#sk-container-id-2 label.sk-toggleable__label-arrow:before {\n",
       "  /* Arrow on the left of the label */\n",
       "  content: \"▸\";\n",
       "  float: left;\n",
       "  margin-right: 0.25em;\n",
       "  color: var(--sklearn-color-icon);\n",
       "}\n",
       "\n",
       "#sk-container-id-2 label.sk-toggleable__label-arrow:hover:before {\n",
       "  color: var(--sklearn-color-text);\n",
       "}\n",
       "\n",
       "/* Toggleable content - dropdown */\n",
       "\n",
       "#sk-container-id-2 div.sk-toggleable__content {\n",
       "  max-height: 0;\n",
       "  max-width: 0;\n",
       "  overflow: hidden;\n",
       "  text-align: left;\n",
       "  /* unfitted */\n",
       "  background-color: var(--sklearn-color-unfitted-level-0);\n",
       "}\n",
       "\n",
       "#sk-container-id-2 div.sk-toggleable__content.fitted {\n",
       "  /* fitted */\n",
       "  background-color: var(--sklearn-color-fitted-level-0);\n",
       "}\n",
       "\n",
       "#sk-container-id-2 div.sk-toggleable__content pre {\n",
       "  margin: 0.2em;\n",
       "  border-radius: 0.25em;\n",
       "  color: var(--sklearn-color-text);\n",
       "  /* unfitted */\n",
       "  background-color: var(--sklearn-color-unfitted-level-0);\n",
       "}\n",
       "\n",
       "#sk-container-id-2 div.sk-toggleable__content.fitted pre {\n",
       "  /* unfitted */\n",
       "  background-color: var(--sklearn-color-fitted-level-0);\n",
       "}\n",
       "\n",
       "#sk-container-id-2 input.sk-toggleable__control:checked~div.sk-toggleable__content {\n",
       "  /* Expand drop-down */\n",
       "  max-height: 200px;\n",
       "  max-width: 100%;\n",
       "  overflow: auto;\n",
       "}\n",
       "\n",
       "#sk-container-id-2 input.sk-toggleable__control:checked~label.sk-toggleable__label-arrow:before {\n",
       "  content: \"▾\";\n",
       "}\n",
       "\n",
       "/* Pipeline/ColumnTransformer-specific style */\n",
       "\n",
       "#sk-container-id-2 div.sk-label input.sk-toggleable__control:checked~label.sk-toggleable__label {\n",
       "  color: var(--sklearn-color-text);\n",
       "  background-color: var(--sklearn-color-unfitted-level-2);\n",
       "}\n",
       "\n",
       "#sk-container-id-2 div.sk-label.fitted input.sk-toggleable__control:checked~label.sk-toggleable__label {\n",
       "  background-color: var(--sklearn-color-fitted-level-2);\n",
       "}\n",
       "\n",
       "/* Estimator-specific style */\n",
       "\n",
       "/* Colorize estimator box */\n",
       "#sk-container-id-2 div.sk-estimator input.sk-toggleable__control:checked~label.sk-toggleable__label {\n",
       "  /* unfitted */\n",
       "  background-color: var(--sklearn-color-unfitted-level-2);\n",
       "}\n",
       "\n",
       "#sk-container-id-2 div.sk-estimator.fitted input.sk-toggleable__control:checked~label.sk-toggleable__label {\n",
       "  /* fitted */\n",
       "  background-color: var(--sklearn-color-fitted-level-2);\n",
       "}\n",
       "\n",
       "#sk-container-id-2 div.sk-label label.sk-toggleable__label,\n",
       "#sk-container-id-2 div.sk-label label {\n",
       "  /* The background is the default theme color */\n",
       "  color: var(--sklearn-color-text-on-default-background);\n",
       "}\n",
       "\n",
       "/* On hover, darken the color of the background */\n",
       "#sk-container-id-2 div.sk-label:hover label.sk-toggleable__label {\n",
       "  color: var(--sklearn-color-text);\n",
       "  background-color: var(--sklearn-color-unfitted-level-2);\n",
       "}\n",
       "\n",
       "/* Label box, darken color on hover, fitted */\n",
       "#sk-container-id-2 div.sk-label.fitted:hover label.sk-toggleable__label.fitted {\n",
       "  color: var(--sklearn-color-text);\n",
       "  background-color: var(--sklearn-color-fitted-level-2);\n",
       "}\n",
       "\n",
       "/* Estimator label */\n",
       "\n",
       "#sk-container-id-2 div.sk-label label {\n",
       "  font-family: monospace;\n",
       "  font-weight: bold;\n",
       "  display: inline-block;\n",
       "  line-height: 1.2em;\n",
       "}\n",
       "\n",
       "#sk-container-id-2 div.sk-label-container {\n",
       "  text-align: center;\n",
       "}\n",
       "\n",
       "/* Estimator-specific */\n",
       "#sk-container-id-2 div.sk-estimator {\n",
       "  font-family: monospace;\n",
       "  border: 1px dotted var(--sklearn-color-border-box);\n",
       "  border-radius: 0.25em;\n",
       "  box-sizing: border-box;\n",
       "  margin-bottom: 0.5em;\n",
       "  /* unfitted */\n",
       "  background-color: var(--sklearn-color-unfitted-level-0);\n",
       "}\n",
       "\n",
       "#sk-container-id-2 div.sk-estimator.fitted {\n",
       "  /* fitted */\n",
       "  background-color: var(--sklearn-color-fitted-level-0);\n",
       "}\n",
       "\n",
       "/* on hover */\n",
       "#sk-container-id-2 div.sk-estimator:hover {\n",
       "  /* unfitted */\n",
       "  background-color: var(--sklearn-color-unfitted-level-2);\n",
       "}\n",
       "\n",
       "#sk-container-id-2 div.sk-estimator.fitted:hover {\n",
       "  /* fitted */\n",
       "  background-color: var(--sklearn-color-fitted-level-2);\n",
       "}\n",
       "\n",
       "/* Specification for estimator info (e.g. \"i\" and \"?\") */\n",
       "\n",
       "/* Common style for \"i\" and \"?\" */\n",
       "\n",
       ".sk-estimator-doc-link,\n",
       "a:link.sk-estimator-doc-link,\n",
       "a:visited.sk-estimator-doc-link {\n",
       "  float: right;\n",
       "  font-size: smaller;\n",
       "  line-height: 1em;\n",
       "  font-family: monospace;\n",
       "  background-color: var(--sklearn-color-background);\n",
       "  border-radius: 1em;\n",
       "  height: 1em;\n",
       "  width: 1em;\n",
       "  text-decoration: none !important;\n",
       "  margin-left: 1ex;\n",
       "  /* unfitted */\n",
       "  border: var(--sklearn-color-unfitted-level-1) 1pt solid;\n",
       "  color: var(--sklearn-color-unfitted-level-1);\n",
       "}\n",
       "\n",
       ".sk-estimator-doc-link.fitted,\n",
       "a:link.sk-estimator-doc-link.fitted,\n",
       "a:visited.sk-estimator-doc-link.fitted {\n",
       "  /* fitted */\n",
       "  border: var(--sklearn-color-fitted-level-1) 1pt solid;\n",
       "  color: var(--sklearn-color-fitted-level-1);\n",
       "}\n",
       "\n",
       "/* On hover */\n",
       "div.sk-estimator:hover .sk-estimator-doc-link:hover,\n",
       ".sk-estimator-doc-link:hover,\n",
       "div.sk-label-container:hover .sk-estimator-doc-link:hover,\n",
       ".sk-estimator-doc-link:hover {\n",
       "  /* unfitted */\n",
       "  background-color: var(--sklearn-color-unfitted-level-3);\n",
       "  color: var(--sklearn-color-background);\n",
       "  text-decoration: none;\n",
       "}\n",
       "\n",
       "div.sk-estimator.fitted:hover .sk-estimator-doc-link.fitted:hover,\n",
       ".sk-estimator-doc-link.fitted:hover,\n",
       "div.sk-label-container:hover .sk-estimator-doc-link.fitted:hover,\n",
       ".sk-estimator-doc-link.fitted:hover {\n",
       "  /* fitted */\n",
       "  background-color: var(--sklearn-color-fitted-level-3);\n",
       "  color: var(--sklearn-color-background);\n",
       "  text-decoration: none;\n",
       "}\n",
       "\n",
       "/* Span, style for the box shown on hovering the info icon */\n",
       ".sk-estimator-doc-link span {\n",
       "  display: none;\n",
       "  z-index: 9999;\n",
       "  position: relative;\n",
       "  font-weight: normal;\n",
       "  right: .2ex;\n",
       "  padding: .5ex;\n",
       "  margin: .5ex;\n",
       "  width: min-content;\n",
       "  min-width: 20ex;\n",
       "  max-width: 50ex;\n",
       "  color: var(--sklearn-color-text);\n",
       "  box-shadow: 2pt 2pt 4pt #999;\n",
       "  /* unfitted */\n",
       "  background: var(--sklearn-color-unfitted-level-0);\n",
       "  border: .5pt solid var(--sklearn-color-unfitted-level-3);\n",
       "}\n",
       "\n",
       ".sk-estimator-doc-link.fitted span {\n",
       "  /* fitted */\n",
       "  background: var(--sklearn-color-fitted-level-0);\n",
       "  border: var(--sklearn-color-fitted-level-3);\n",
       "}\n",
       "\n",
       ".sk-estimator-doc-link:hover span {\n",
       "  display: block;\n",
       "}\n",
       "\n",
       "/* \"?\"-specific style due to the `<a>` HTML tag */\n",
       "\n",
       "#sk-container-id-2 a.estimator_doc_link {\n",
       "  float: right;\n",
       "  font-size: 1rem;\n",
       "  line-height: 1em;\n",
       "  font-family: monospace;\n",
       "  background-color: var(--sklearn-color-background);\n",
       "  border-radius: 1rem;\n",
       "  height: 1rem;\n",
       "  width: 1rem;\n",
       "  text-decoration: none;\n",
       "  /* unfitted */\n",
       "  color: var(--sklearn-color-unfitted-level-1);\n",
       "  border: var(--sklearn-color-unfitted-level-1) 1pt solid;\n",
       "}\n",
       "\n",
       "#sk-container-id-2 a.estimator_doc_link.fitted {\n",
       "  /* fitted */\n",
       "  border: var(--sklearn-color-fitted-level-1) 1pt solid;\n",
       "  color: var(--sklearn-color-fitted-level-1);\n",
       "}\n",
       "\n",
       "/* On hover */\n",
       "#sk-container-id-2 a.estimator_doc_link:hover {\n",
       "  /* unfitted */\n",
       "  background-color: var(--sklearn-color-unfitted-level-3);\n",
       "  color: var(--sklearn-color-background);\n",
       "  text-decoration: none;\n",
       "}\n",
       "\n",
       "#sk-container-id-2 a.estimator_doc_link.fitted:hover {\n",
       "  /* fitted */\n",
       "  background-color: var(--sklearn-color-fitted-level-3);\n",
       "}\n",
       "</style><div id=\"sk-container-id-2\" class=\"sk-top-container\"><div class=\"sk-text-repr-fallback\"><pre>RandomForestClassifier(random_state=42)</pre><b>In a Jupyter environment, please rerun this cell to show the HTML representation or trust the notebook. <br />On GitHub, the HTML representation is unable to render, please try loading this page with nbviewer.org.</b></div><div class=\"sk-container\" hidden><div class=\"sk-item\"><div class=\"sk-estimator fitted sk-toggleable\"><input class=\"sk-toggleable__control sk-hidden--visually\" id=\"sk-estimator-id-2\" type=\"checkbox\" checked><label for=\"sk-estimator-id-2\" class=\"sk-toggleable__label fitted sk-toggleable__label-arrow fitted\">&nbsp;&nbsp;RandomForestClassifier<a class=\"sk-estimator-doc-link fitted\" rel=\"noreferrer\" target=\"_blank\" href=\"https://scikit-learn.org/1.5/modules/generated/sklearn.ensemble.RandomForestClassifier.html\">?<span>Documentation for RandomForestClassifier</span></a><span class=\"sk-estimator-doc-link fitted\">i<span>Fitted</span></span></label><div class=\"sk-toggleable__content fitted\"><pre>RandomForestClassifier(random_state=42)</pre></div> </div></div></div></div>"
      ],
      "text/plain": [
       "RandomForestClassifier(random_state=42)"
      ]
     },
     "execution_count": 60,
     "metadata": {},
     "output_type": "execute_result"
    }
   ],
   "source": [
    "clf = RandomForestClassifier(n_estimators=100, random_state=42)\n",
    "clf.fit(X_train, y_train)"
   ]
  },
  {
   "cell_type": "code",
   "execution_count": 61,
   "id": "a1fa921b20735ad2",
   "metadata": {
    "ExecuteTime": {
     "end_time": "2025-06-19T12:36:18.654852Z",
     "start_time": "2025-06-19T12:36:18.632976Z"
    }
   },
   "outputs": [],
   "source": [
    "y_pred = clf.predict(X_test)"
   ]
  },
  {
   "cell_type": "code",
   "execution_count": 62,
   "id": "b2212b1b3f2317aa",
   "metadata": {
    "ExecuteTime": {
     "end_time": "2025-06-19T12:36:18.737424Z",
     "start_time": "2025-06-19T12:36:18.723953Z"
    }
   },
   "outputs": [
    {
     "name": "stdout",
     "output_type": "stream",
     "text": [
      "\n",
      "Rapport de classification :\n",
      "              precision    recall  f1-score   support\n",
      "\n",
      "    CRITICAL       1.00      0.99      1.00       182\n",
      "        HIGH       1.00      1.00      1.00      1076\n",
      "         LOW       1.00      1.00      1.00        23\n",
      "      MEDIUM       1.00      1.00      1.00       614\n",
      "\n",
      "    accuracy                           1.00      1895\n",
      "   macro avg       1.00      1.00      1.00      1895\n",
      "weighted avg       1.00      1.00      1.00      1895\n",
      "\n"
     ]
    }
   ],
   "source": [
    "# Rapport de classification\n",
    "unique_labels = np.unique(np.concatenate((y_test, y_pred)))\n",
    "target_names = le.inverse_transform(unique_labels)\n",
    "print(\"\\nRapport de classification :\")\n",
    "print(classification_report(y_test, y_pred, target_names=target_names, labels=unique_labels))"
   ]
  },
  {
   "cell_type": "code",
   "execution_count": 96,
   "id": "8aa96409e490d53",
   "metadata": {
    "ExecuteTime": {
     "end_time": "2025-06-19T12:36:18.999803Z",
     "start_time": "2025-06-19T12:36:18.808395Z"
    }
   },
   "outputs": [
    {
     "data": {
      "image/png": "[encoded data removed]",
      "text/plain": [
       "<Figure size 800x600 with 2 Axes>"
      ]
     },
     "metadata": {},
     "output_type": "display_data"
    },
    {
     "data": {
      "text/plain": [
       "0.9994722955145119"
      ]
     },
     "execution_count": 96,
     "metadata": {},
     "output_type": "execute_result"
    }
   ],
   "source": [
    "# Matrice de confusion\n",
    "cm = confusion_matrix(y_test, y_pred, labels=unique_labels)\n",
    "plt.figure(figsize=(8, 6))\n",
    "sns.heatmap(cm, annot=True, fmt='d', cmap='Blues', xticklabels=target_names, yticklabels=target_names)\n",
    "plt.title('Matrice de confusion - RandomForestClassifier')\n",
    "plt.xlabel('Prédictions')\n",
    "plt.ylabel('Valeurs réelles')\n",
    "plt.show()\n",
    "\n",
    "from sklearn.metrics import accuracy_score, confusion_matrix, classification_report\n",
    "\n",
    "# View accuracy score\n",
    "accuracy_score(y_test, y_pred)\n",
    "\n",
    "#"
   ]
  },
  {
   "cell_type": "markdown",
   "id": "ab03b10c-6bdc-43ea-a660-17198d9756e0",
   "metadata": {},
   "source": [
    "# Interprétation - Random Forest\n",
    "\n",
    "- Les valeurs sur la diagonale sont très élevées et les valeurs hors diagonale sont extrêmement faibles (voire nulles). Cela indique que le modèle RandomForestClassifier est exceptionnellement précis pour classer les vulnérabilités dans leurs catégories de gravité respectives (CRITICAL, HIGH, LOW, MEDIUM).\n",
    "- Il n'y a qu'une seule instance mal classée visible dans cette matrice (un \"HIGH\" classé comme \"CRITICAL\").\n",
    "- La matrice de confusion démontre que le RandomForestClassifier performe de manière exceptionnelle dans la classification des vulnérabilités selon leur gravité (CRITICAL, HIGH, LOW, MEDIUM)\n",
    "_____\n",
    "- Le score d'accuracy représente probablement l'exactitude globale du modèle, qui est d'environ 99.95%. C'est un score remarquablement élevé, suggérant que le modèle effectue des prédictions quasi parfaites sur cet ensemble de données."
   ]
  },
  {
   "cell_type": "markdown",
   "id": "b00eb753-bd6c-4285-901b-0235ccacd3be",
   "metadata": {},
   "source": [
    "# Validation du modèle Random Forest"
   ]
  },
  {
   "cell_type": "code",
   "execution_count": 116,
   "id": "08931301-98d7-4c88-93fd-83f86594adab",
   "metadata": {},
   "outputs": [
    {
     "name": "stdout",
     "output_type": "stream",
     "text": [
      "Accuracy pour chaque fold : [0.92478226 1.         1.         0.99841647 0.72662441]\n",
      "Accuracy moyenne (Cross-Validation) : 0.93 (+/- 0.11)\n"
     ]
    }
   ],
   "source": [
    "from sklearn.model_selection import cross_val_score\n",
    "\n",
    "# Pour la classification\n",
    "scores = cross_val_score(clf, X, y, cv=5, scoring='accuracy')\n",
    "print(f\"Accuracy pour chaque fold : {scores}\")\n",
    "print(f\"Accuracy moyenne (Cross-Validation) : {scores.mean():.2f} (+/- {scores.std():.2f})\")"
   ]
  },
  {
   "cell_type": "markdown",
   "id": "b3cad4bc-c7a7-4847-9dab-c0bad44476b6",
   "metadata": {},
   "source": [
    "# Interprétation - accuracy Cross val\n",
    "\n",
    "- Une Accuracy moyenne de 0.93 (93%) est très élevée et indique que, en moyenne, notre modèle Random Forest est capable de faire des prédictions correctes dans 93% des cas sur des données invisibles lors de la validation croisée.\n",
    "\n",
    "- L'écart type de 0.11 (11%) est relativement élevé, surtout si l'on regarde les scores individuels des folds :\n",
    "    - Trois folds ont des performances quasi parfaites (1.0, 1.0, 0.998).\n",
    "    - Un fold est très bon (0.924).\n",
    "    - Cependant, un fold a une performance significativement plus faible (0.726).\n",
    "      \n",
    "- Le fait qu'un des folds ait une accuracy de 0.726 mérite une attention particulière. Cela signifie que pour ce segment spécifique de vos données, le modèle a eu beaucoup plus de mal à faire des prédictions précises."
   ]
  },
  {
   "cell_type": "markdown",
   "id": "d528a1db-8de9-44c1-9ef3-8af5af611cb3",
   "metadata": {},
   "source": [
    "## Apprentissage non supervisé"
   ]
  },
  {
   "cell_type": "code",
   "execution_count": 65,
   "id": "3210daabf46fc827",
   "metadata": {
    "ExecuteTime": {
     "end_time": "2025-06-19T12:36:19.499035Z",
     "start_time": "2025-06-19T12:36:19.490987Z"
    }
   },
   "outputs": [
    {
     "name": "stdout",
     "output_type": "stream",
     "text": [
      "\n",
      "--- Début de l'apprentissage non supervisé ---\n"
     ]
    }
   ],
   "source": [
    "print(\"\\n--- Début de l'apprentissage non supervisé ---\")\n",
    "\n",
    "features_for_clustering = ml_df[['CVSS_score', 'EPSS_score', 'EPSS_percentile']]\n",
    "\n",
    "scaler = StandardScaler()\n",
    "X_scaled = scaler.fit_transform(features_for_clustering)"
   ]
  },
  {
   "cell_type": "code",
   "execution_count": 66,
   "id": "e92ea552cb99a4cc",
   "metadata": {
    "ExecuteTime": {
     "end_time": "2025-06-19T12:36:19.850888Z",
     "start_time": "2025-06-19T12:36:19.807930Z"
    }
   },
   "outputs": [],
   "source": [
    "# Application de K-Means pour trouver 3 clusters\n",
    "kmeans = KMeans(n_clusters=3, random_state=42, n_init=10)\n",
    "ml_df['cluster'] = kmeans.fit_predict(X_scaled)"
   ]
  },
  {
   "cell_type": "code",
   "execution_count": 67,
   "id": "5c2e82320e59bf23",
   "metadata": {
    "ExecuteTime": {
     "end_time": "2025-06-19T12:36:20.079260Z",
     "start_time": "2025-06-19T12:36:20.073020Z"
    }
   },
   "outputs": [
    {
     "name": "stdout",
     "output_type": "stream",
     "text": [
      "\n",
      "Caractéristiques moyennes des clusters :\n",
      "   CVSS_score  EPSS_score  EPSS_percentile\n",
      "0    8.731111    0.621832         0.974871\n",
      "1    7.899966    0.001377         0.193598\n",
      "2    5.453697    0.001527         0.214827\n"
     ]
    }
   ],
   "source": [
    "cluster_centers = scaler.inverse_transform(kmeans.cluster_centers_)\n",
    "centers_df = pd.DataFrame(cluster_centers, columns=['CVSS_score', 'EPSS_score', 'EPSS_percentile'])\n",
    "print(\"\\nCaractéristiques moyennes des clusters :\")\n",
    "print(centers_df)"
   ]
  },
  {
   "cell_type": "code",
   "execution_count": 68,
   "id": "f0e57c3b17ea3e33",
   "metadata": {
    "ExecuteTime": {
     "end_time": "2025-06-19T12:36:20.762248Z",
     "start_time": "2025-06-19T12:36:20.274686Z"
    }
   },
   "outputs": [
    {
     "data": {
      "image/png": "[encoded data removed]",
      "text/plain": [
       "<Figure size 1000x700 with 1 Axes>"
      ]
     },
     "metadata": {},
     "output_type": "display_data"
    },
    {
     "name": "stdout",
     "output_type": "stream",
     "text": [
      "\n",
      "Score Silhouette : 0.554\n"
     ]
    }
   ],
   "source": [
    "from sklearn.metrics import silhouette_score\n",
    "\n",
    "plt.figure(figsize=(10, 7))\n",
    "sns.scatterplot(data=ml_df, x='CVSS_score', y='EPSS_score', hue='cluster', palette='viridis', legend='full')\n",
    "plt.scatter(centers_df['CVSS_score'], centers_df['EPSS_score'], s=200, c='red', marker='X', label='Centres des clusters')\n",
    "plt.title('Clustering des vulnérabilités (K-Means)')\n",
    "plt.xlabel('Score CVSS')\n",
    "plt.ylabel('Score EPSS (Probabilité d\\'exploitation)')\n",
    "plt.legend()\n",
    "plt.grid(True)\n",
    "plt.show()\n",
    "\n",
    "# Calculate Silhouette Score\n",
    "silhouette_avg = silhouette_score(X_scaled, ml_df['cluster'])\n",
    "print(f\"\\nScore Silhouette : {silhouette_avg:.3f}\")"
   ]
  },
  {
   "cell_type": "markdown",
   "id": "8558a890-066f-4d68-8d84-e9acdbba7ba5",
   "metadata": {},
   "source": [
    "# Interprétation K-Means clustering\n",
    "\n",
    "Cela indique que les clusters sont raisonnablement bien séparés et que les points de données au sein de chaque cluster sont relativement cohérents.\n",
    "Bien que ce score ne soit pas exceptionnellement élevé (un score proche de 0,7 ou 0,8 indiquerait des clusters très forts et distincts), il est nettement supérieur à 0 et loin d'être négatif, ce qui suggère que l'algorithme K-Means a trouvé un partitionnement judicieux de vos données de vulnérabilité.\n",
    "Ce score concorde avec l'inspection visuelle du graphique, où les clusters, malgré une certaine variation de densité, sont largement distinguables."
   ]
  },
  {
   "cell_type": "markdown",
   "id": "3cb6e087-fe2e-497f-abe2-c8eb8b78e966",
   "metadata": {},
   "source": [
    "Le nuage de points présente les vulnérabilités regroupées en trois groupes (0, 1, 2) selon le score CVSS (axe des abscisses) et le score EPSS (probabilité d'exploitation) (axe des ordonnées). Les marqueurs « X » rouges indiquent les centroïdes des groupes.\n",
    "\n",
    "- Groupe 0 (points violet foncé/bleus) : Ces vulnérabilités présentent généralement des scores CVSS faibles (de 3 à 6 environ) et des scores EPSS très faibles (généralement proches de 0).\n",
    "Ce groupe représente les vulnérabilités « à faible risque et faible exploitabilité ». Leur gravité est faible et leur exploitation est très peu probable.\n",
    "- Groupe 1 (points turquoise/verts) : Ce groupe se caractérise par des scores CVSS élevés (de 6,5 à 10 environ) et des scores EPSS relativement élevés (de 0,5 à 0,9+ environ). Interprétation : Ce groupe représente probablement des vulnérabilités à « risque élevé et exploitabilité élevée ». Il s’agit de problèmes critiques, d’une gravité élevée et d’une probabilité significative d’exploitation.\n",
    "Ce groupe nécessite généralement une attention immédiate.\n",
    "- Groupe 2 (points jaunes) : Ces vulnérabilités présentent principalement des scores CVSS élevés (plage similaire à celle du groupe 1, d’environ 7 à 10), mais des scores EPSS très faibles (généralement compris entre 0 et 0,3).\n",
    "On observe une concentration notable de ces points à des scores EPSS faibles, malgré des scores CVSS plus élevés.\n",
    "Interprétation : Ce groupe pourrait représenter des vulnérabilités à « risque élevé et exploitabilité faible ». Si leurs scores CVSS indiquent une gravité élevée, leurs faibles scores EPSS suggèrent qu’elles sont moins susceptibles d’être exploitées en pratique.\n",
    "Cette distinction est très utile, car elle permet de prioriser les vulnérabilités à CVSS élevé à traiter en priorité (celles du groupe 1).\n",
    "\n",
    "- Séparation et chevauchement des clusters :\n",
    "\n",
    "Les clusters 0 et 1 semblent relativement bien séparés, notamment sur l'axe des Y (score EPSS).\n",
    "On observe un chevauchement horizontal du score CVSS entre les clusters 1 et 2, notamment dans la plage CVSS supérieure. Cependant, ils sont clairement séparés par leur score EPSS, qui constitue ici le principal facteur de différenciation.\n",
    "Cela indique que le clustering exploite efficacement les deux dimensions pour créer des groupes significatifs.\n",
    "Les centroïdes sont situés de manière appropriée au sein de leurs clusters respectifs.\n",
    "\n",
    "2. Pour notre K-means, nous avons obtenu un score silhouette de 0,554. Un score de 0,554 est généralement considéré comme un résultat de clustering modérément bon. Il indique que les clusters sont raisonnablement bien séparés et que les points de données au sein de chaque cluster sont relativement cohérents.\n",
    "Bien que ce score ne soit pas exceptionnellement élevé, il est nettement supérieur à 0 et loin d'être négatif, ce qui suggère que l'algorithme K-means a trouvé un partitionnement judicieux de vos données de vulnérabilité.\n",
    "Ce score concorde avec l'inspection visuelle du graphique, où les clusters, malgré une certaine variation de densité, sont largement distinguables.\n",
    "\n",
    "Conclusion :\n",
    "Notre clustering K-Means, composé de trois clusters, a permis de segmenter les vulnérabilités en groupes distincts et interprétables en fonction de leurs scores CVSS et EPSS.\n",
    "\n",
    "Nous avons identifié au moins trois profils :\n",
    "Faible risque/Faible exploitabilité (Cluster 0)\n",
    "Risque élevé/Forte exploitabilité (Cluster 1)\n",
    "Risque élevé/Faible exploitabilité (Cluster 2)\n",
    "Le score Silhouette de 0,536 confirme la validité de ces clusters, indiquant un bon niveau de séparation et de cohésion."
   ]
  },
  {
   "cell_type": "markdown",
   "id": "2571586e-f6b3-4108-94ae-a88c115d5580",
   "metadata": {},
   "source": [
    "# Validation du modèle K-means"
   ]
  },
  {
   "cell_type": "code",
   "execution_count": null,
   "id": "e27f92c7-97b9-4b95-b96f-789a7521347d",
   "metadata": {},
   "outputs": [],
   "source": [
    "# Méthode du coude (Elbow Method)\n",
    "from sklearn.cluster import KMeans\n",
    "from sklearn.metrics import silhouette_score\n",
    "import matplotlib.pyplot as plt\n",
    "import pandas as pd # Supposons que df est votre DataFrame de données\n",
    "\n",
    "wcss = []\n",
    "for i in range(1, 11): # Tester k de 1 à 10\n",
    "    kmeans = KMeans(n_clusters=i, init='k-means++', max_iter=300, n_init=10, random_state=42)\n",
    "    kmeans.fit(X)\n",
    "    wcss.append(kmeans.inertia_) # inertia_ est le WCSS\n",
    "\n",
    "plt.plot(range(1, 11), wcss)\n",
    "plt.title('Méthode du coude')\n",
    "plt.xlabel('Nombre de clusters (k)')\n",
    "plt.ylabel('WCSS')\n",
    "plt.show()"
   ]
  },
  {
   "cell_type": "markdown",
   "id": "6a5590a7-06e6-439f-a4a2-a90bec3dc34a",
   "metadata": {},
   "source": [
    "# Interprétation - Elbow Method\n",
    "\n",
    "Sur le graphique Elbow Method, le coude semble se situer autour de K=3. Cela confirme le clustering des vulnérabilités précédents, avec 3 clusters."
   ]
  },
  {
   "cell_type": "code",
   "execution_count": 122,
   "id": "eb97bfe5-9fe5-482d-803f-f1a4f22b24f7",
   "metadata": {},
   "outputs": [
    {
     "name": "stdout",
     "output_type": "stream",
     "text": [
      "Pour k=2, le score de silhouette est : 0.62\n",
      "Pour k=3, le score de silhouette est : 0.57\n",
      "Pour k=4, le score de silhouette est : 0.58\n",
      "Pour k=5, le score de silhouette est : 0.56\n",
      "Pour k=6, le score de silhouette est : 0.62\n",
      "Pour k=7, le score de silhouette est : 0.62\n",
      "Pour k=8, le score de silhouette est : 0.63\n",
      "Pour k=9, le score de silhouette est : 0.63\n",
      "Pour k=10, le score de silhouette est : 0.63\n"
     ]
    },
    {
     "data": {
      "image/png": "[encoded data removed]",
      "text/plain": [
       "<Figure size 640x480 with 1 Axes>"
      ]
     },
     "metadata": {},
     "output_type": "display_data"
    }
   ],
   "source": [
    "# Scores de Silhouette\n",
    "silhouette_scores = []\n",
    "for i in range(2, 11): # Le score de silhouette n'est pas défini pour k=1\n",
    "    kmeans = KMeans(n_clusters=i, init='k-means++', max_iter=300, n_init=10, random_state=42)\n",
    "    cluster_labels = kmeans.fit_predict(X)\n",
    "    score = silhouette_score(X, cluster_labels)\n",
    "    silhouette_scores.append(score)\n",
    "    print(f\"Pour k={i}, le score de silhouette est : {score:.2f}\")\n",
    "\n",
    "plt.plot(range(2, 11), silhouette_scores)\n",
    "plt.title('Scores de Silhouette pour différentes valeurs de k')\n",
    "plt.xlabel('Nombre de clusters (k)')\n",
    "plt.ylabel('Score de Silhouette')\n",
    "plt.show()"
   ]
  },
  {
   "cell_type": "markdown",
   "id": "e64db7a8-ea96-4d01-932d-434ba38f417d",
   "metadata": {},
   "source": [
    "# Interprétation - Scores de silhouette\n",
    "\n",
    "Le score de silhouette est relativement bas pour k=2, puis augmente de manière significative pour k=3, atteignant son point le plus élevé. Après k=3, le score de silhouette semble diminuer ou stagner, ce qui suggère que l'ajout de clusters supplémentaires au-delà de 3 ne mejora pas nécessairement la qualité du clustering en termes de séparation et de cohésion. Cela correspond à K=3 du graphe de clusterings de vulnérabilités K-Means."
   ]
  },
  {
   "cell_type": "code",
   "execution_count": null,
   "id": "fd522835-6abb-49d6-8788-a25f8abe0fd5",
   "metadata": {},
   "outputs": [],
   "source": []
  }
 ],
 "metadata": {
  "kernelspec": {
   "display_name": "Python 3 (ipykernel)",
   "language": "python",
   "name": "python3"
  },
  "language_info": {
   "codemirror_mode": {
    "name": "ipython",
    "version": 3
   },
   "file_extension": ".py",
   "mimetype": "text/x-python",
   "name": "python",
   "nbconvert_exporter": "python",
   "pygments_lexer": "ipython3",
   "version": "3.12.7"
  }
 },
 "nbformat": 4,
 "nbformat_minor": 5
}
